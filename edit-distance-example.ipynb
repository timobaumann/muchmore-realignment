{
 "cells": [
  {
   "cell_type": "markdown",
   "id": "f8dd6423",
   "metadata": {},
   "source": [
    "*This is an example for sequence alignment using and edit distance algorithm.*"
   ]
  },
  {
   "cell_type": "code",
   "execution_count": 2,
   "id": "e1443fae",
   "metadata": {},
   "outputs": [],
   "source": [
    "# I believe your data is more-or-less in the following format:\n",
    "\n",
    "# you have a long string for the text (let's presume you've already converted it to UTF-8)\n",
    "text_reference = \"In Deutschland sind etwa 1 Mio. Menschen chronisch mit Hepatitisviren der Gruppen B und C infiziert, die Mehrzahl davon im reproduktionsfähigen Alter. Bei Kinderwunsch ist neben der hepatologischen Situation insbesondere das sexuelle und das maternofetale Übertragungsrisiko zu berücksichtigen. Bei Hepatitis B kann durch Vakzinierung die sexuelle Transmission vermieden und durch neonatale Simultanimpfung die maternofetale Übertragungsrate drastisch gesenkt werden, die Langzeitprognose konnatal infizierter Kinder ist eher günstig. Bei chronischer Infektion kann derzeit aber die Möglichkeit einer paternofetalen Virustransmission durch infizierte Spermien nicht ausgeschlossen werden. Da für Hepatitis C weder eine Vakzinierung noch eine Immunprophylaxe verfügbar ist, erfordert die Prävention der sexuellen Übertragung den Gebrauch von Kondomen. Bei Infektion des (Ehe-)Mannes kann zur Risikoreduktion eine ART mit aufbereiteten Spermien angeboten werden. Bei Infektion der (Ehe-)Frau lassen das geringe maternofetale Übertragungsrisiko und die jahrzehntelang günstige Prognose konnatal infizierter Kinder keine Kontraindikation gegen ART erkennen. Vor jeder reproduktionsmedizinischen Intervention sollte aber die Option einer viruseliminierenden Therapie geprüft werden.\"\n",
    "# you have a list of sentences which contains a list of words from the xml file. This is UTF-8 but has been altered in some ways (see below)\n",
    "xml_sentences = [[\"In\", \"Deutschland\", \"sind\", \"etwa\", \"1\", \"Mio\", \".\"], [\"Menschen\", \"chronisch\", \"mit\", \"Hepatitisviren\", \"der\", \"Gruppen\", \"B\", \"und\", \"C\", \"infiziert\", \",\", \"die\", \"Mehrzahl\", \"davon\", \"im\", \"reproduktionsfaehigen\", \"Alter\",\".\"], [\"Bei\", \"Kinderwunsch\", \"ist\", \"neben\", \"der\", \"hepatologischen\", \"Situation\", \"insbesondere\", \"das\", \"sexuelle\", \"und\", \"das\", \"maternofetale\", \"Uebertragungsrisiko\", \"zu\", \"beruecksichtigen\", \".\"], [\"Bei\", \"Hepatitis\", \"B\", \"kann\", \"durch\", \"Vakzinierung\", \"die\", \"sexuelle\", \"Transmission\", \"vermieden\", \"und\", \"durch\", \"neonatale\", \"Simultanimpfung\", \"die\", \"maternofetale\", \"Uebertragungsrate\", \"drastisch\", \"gesenkt\", \"werden\", \",\", \"die\", \"Langzeitprognose\", \"konnatal\", \"infizierter\", \"Kinder\", \"ist\", \"eher\", \"guenstig\", \".\"], [\"Bei\", \"chronischer\", \"Infektion\", \"kann\", \"derzeit\", \"aber\", \"die\", \"Moeglichkeit\", \"einer\", \"paternofetalen\", \"Virustransmission\", \"durch\", \"infizierte\", \"Spermien\", \"nicht\", \"ausgeschlossen\", \"werden\", \".\"], [\"Da\", \"fuer\", \"Hepatitis\", \"C\", \"weder\", \"eine\", \"Vakzinierung\", \"noch\", \"eine\", \"Immunprophylaxe\", \"verfuegbar\", \"ist\", \",\", \"erfordert\", \"die\", \"Praevention\", \"der\", \"sexuellen\", \"Uebertragung\", \"den\", \"Gebrauch\", \"von\", \"Kondomen\", \".\"], [\"Bei\", \"Infektion\", \"des\", \"Ehe-\", \")\", \"Mannes\", \"(\", \"kann\", \"zur\", \"Risikoreduktion\", \"eine\", \"ART\", \"mit\", \"aufbereiteten\", \"Spermien\", \"angeboten\", \"werden\", \".\"], [\"Bei\", \"Infektion\", \"der\", \"Ehe-\", \")\", \"Frau\", \"(\", \"lassen\", \"das\", \"geringe\", \"maternofetale\", \"Uebertragungsrisiko\", \"und\", \"die\", \"jahrzehntelang\", \"guenstige\", \"Prognose\", \"konnatal\", \"infizierter\", \"Kinder\", \"keine\", \"Kontraindikation\", \"gegen\", \"ART\", \"erkennen\", \".\"], [\"Vor\", \"jeder\", \"reproduktionsmedizinischen\", \"Intervention\", \"sollte\", \"aber\", \"die\", \"Option\", \"einer\", \"viruseliminierenden\", \"Therapie\", \"geprueft\", \"werden\", \".\"]]\n",
    "## interesting note on the side: there's an error in the XML: of course, the sentence does not finish after saying \"1 Mio.\" but that's the abbreviation for \"1 million\". \n",
    "## note that we won't fix such mistakes -- it's wrong but we'll live with it. (Maybe this is then fixed by having multiple sentences aligned to one via the xml annotations.)"
   ]
  },
  {
   "cell_type": "markdown",
   "id": "8cf32656",
   "metadata": {},
   "source": [
    "Description of the approach:\n",
    "\n",
    "* we'll create a character-by-character alignment between the \"original\" text and the text from XML,\n",
    "* from the alignment, we can infer the (original) text that corresponds to each (xml) sentence.\n",
    "\n",
    "to optimize this, we can assign insertion/deletion costs that are specific to our data. For example:\n",
    "* low cost for deleting spaces (as, for simplicity, we won't put any whitespace in between the xml tokens).\n",
    "* very low cost for substituting ( with ) (and vice-versa) as that's what we find in the data.\n",
    "* low cost for substituting äöüÄÖÜ against aouAOU and a low cost for inserting e (of course, it would be ideal to have a low cost for substituting ä with ae but multi-character substitutions are probably beyond what we want to deal with...\n",
    "\n",
    "→ for the moment we'll simply try without any of these optimizations. Instead we'll simply say that deletions are slightly cheaper than normal."
   ]
  },
  {
   "cell_type": "code",
   "execution_count": 3,
   "id": "0faf8bfa",
   "metadata": {},
   "outputs": [],
   "source": [
    "import brew_distance"
   ]
  },
  {
   "cell_type": "code",
   "execution_count": 33,
   "id": "f6d4ab62",
   "metadata": {},
   "outputs": [],
   "source": [
    "xml_text = ''.join(sum(xml_sentences, start=[]))"
   ]
  },
  {
   "cell_type": "code",
   "execution_count": 35,
   "id": "dfa4b38e",
   "metadata": {},
   "outputs": [],
   "source": [
    "cost, edits = brew_distance.distance(text_reference, xml_text, \"both\", cost=(0, 1, 0.8, 1))\n",
    "rel_cost = cost / len(text_reference)\n",
    "if (rel_cost > 0.2):\n",
    "    print(\"these are really different: \", (cost, rel_cost, text_reference, xml_text))\n",
    "#rel_cost, edits"
   ]
  },
  {
   "cell_type": "code",
   "execution_count": 57,
   "id": "9cacc8c8",
   "metadata": {},
   "outputs": [],
   "source": [
    "sentence_counter = 0\n",
    "text_sentence_start = 0\n",
    "sentences = []\n",
    "\n",
    "xml_sentence_lengths = [len(''.join(sent)) for sent in xml_sentences]\n",
    "xml_sentence_ends = [0] * len(xml_sentence_lengths) + [-1]\n",
    "for i in range(len(xml_sentence_lengths)):\n",
    "    xml_sentence_ends[i] = sum(xml_sentence_lengths[0:i+1]) - 1\n",
    "#print(xml_sentence_lengths, xml_sentence_ends, len(xml_text), sum(xml_sentence_lengths))\n",
    "text_counter, xml_counter = 0, 0\n",
    "for edit in edits:\n",
    "    if edit in (\"MATCH\", \"SUBST\"):\n",
    "        text_counter += 1\n",
    "        xml_counter += 1\n",
    "    elif edit == \"INS\":\n",
    "        xml_counter += 1\n",
    "    elif edit == \"DEL\": \n",
    "        text_counter += 1\n",
    "    else:\n",
    "        raise AssertionError(\"unknown edit type\" + edit)\n",
    "    if xml_counter == xml_sentence_ends[sentence_counter]:\n",
    "        sentences += [text_reference[text_sentence_start:text_counter+1].lstrip()]\n",
    "        text_sentence_start = text_counter + 1\n",
    "        sentence_counter += 1"
   ]
  },
  {
   "cell_type": "code",
   "execution_count": 58,
   "id": "5ff5b587",
   "metadata": {},
   "outputs": [
    {
     "name": "stdout",
     "output_type": "stream",
     "text": [
      "['In Deutschland sind etwa 1 Mio.', 'Menschen chronisch mit Hepatitisviren der Gruppen B und C infiziert, die Mehrzahl davon im reproduktionsfähigen Alter.', 'Bei Kinderwunsch ist neben der hepatologischen Situation insbesondere das sexuelle und das maternofetale Übertragungsrisiko zu berücksichtigen.', 'Bei Hepatitis B kann durch Vakzinierung die sexuelle Transmission vermieden und durch neonatale Simultanimpfung die maternofetale Übertragungsrate drastisch gesenkt werden, die Langzeitprognose konnatal infizierter Kinder ist eher günstig.', 'Bei chronischer Infektion kann derzeit aber die Möglichkeit einer paternofetalen Virustransmission durch infizierte Spermien nicht ausgeschlossen werden.', 'Da für Hepatitis C weder eine Vakzinierung noch eine Immunprophylaxe verfügbar ist, erfordert die Prävention der sexuellen Übertragung den Gebrauch von Kondomen.', 'Bei Infektion des (Ehe-)Mannes kann zur Risikoreduktion eine ART mit aufbereiteten Spermien angeboten werden.', 'Bei Infektion der (Ehe-)Frau lassen das geringe maternofetale Übertragungsrisiko und die jahrzehntelang günstige Prognose konnatal infizierter Kinder keine Kontraindikation gegen ART erkennen.', 'Vor jeder reproduktionsmedizinischen Intervention sollte aber die Option einer viruseliminierenden Therapie geprüft werden.']\n"
     ]
    }
   ],
   "source": [
    "print(sentences)"
   ]
  },
  {
   "cell_type": "code",
   "execution_count": null,
   "id": "16990169",
   "metadata": {},
   "outputs": [],
   "source": []
  }
 ],
 "metadata": {
  "kernelspec": {
   "display_name": "090_ganmt",
   "language": "python",
   "name": "090_ganmt"
  },
  "language_info": {
   "codemirror_mode": {
    "name": "ipython",
    "version": 3
   },
   "file_extension": ".py",
   "mimetype": "text/x-python",
   "name": "python",
   "nbconvert_exporter": "python",
   "pygments_lexer": "ipython3",
   "version": "3.11.6"
  }
 },
 "nbformat": 4,
 "nbformat_minor": 5
}
